{
 "cells": [
  {
   "cell_type": "code",
   "execution_count": 1,
   "id": "9eafbfea",
   "metadata": {},
   "outputs": [],
   "source": [
    "import os\n",
    "import shutil\n",
    "import random\n",
    "\n",
    "def split_data(src_folder, data_dir, train_ratio, val_ratio):\n",
    "    # Создаем папки для тренировочного, валидационного и тестового наборов\n",
    "    for folder in ['train', 'val', 'test']:\n",
    "        os.makedirs(os.path.join(data_dir, folder), exist_ok=True)\n",
    "        \n",
    "    os.makedirs(src_folder, exist_ok=True)\n",
    "    os.makedirs(data_dir, exist_ok=True)\n",
    "\n",
    "    # Обходим каждую подпапку в исходной папке\n",
    "    for subdir in os.listdir(src_folder):\n",
    "        subdir_path = os.path.join(src_folder, subdir)\n",
    "        print(subdir_path)\n",
    "        if os.path.isdir(subdir_path):\n",
    "            files = os.listdir(subdir_path)\n",
    "            images = [file for file in files if file.endswith('.jpg') or file.endswith('.png') or file.endswith('.Png')]\n",
    "\n",
    "            # Перемешиваем изображения\n",
    "            random.shuffle(images)\n",
    "\n",
    "            # Распределяем изображения по наборам\n",
    "            train_split = int(len(images) * train_ratio)\n",
    "            val_split = int(len(images) * val_ratio)\n",
    "\n",
    "            for i, image in enumerate(images):\n",
    "#                 if image.endswith('.jpg') or image.endswith('.png') or image.endswith('.Png'):\n",
    "                    label = image[:-4] + '.txt'\n",
    "\n",
    "                    # Определяем, в какую папку переместить\n",
    "                    if i < train_split:\n",
    "                        dest_folder = 'train'\n",
    "                    elif i < train_split + val_split:\n",
    "                        dest_folder = 'val'\n",
    "                    else:\n",
    "                        dest_folder = 'test'\n",
    "\n",
    "                    # Копирование изображений и меток\n",
    "                    shutil.copy(os.path.join(subdir_path, image), os.path.join(data_dir, dest_folder, image))\n",
    "                    shutil.copy(os.path.join(subdir_path, label), os.path.join(data_dir, dest_folder, label))"
   ]
  },
  {
   "cell_type": "code",
   "execution_count": null,
   "id": "5e96fa57",
   "metadata": {},
   "outputs": [],
   "source": [
    "split_data('train_dataset_train\\\\cameras\\\\train',\n",
    "           'train_dataset_train\\\\cameras\\\\train_data',\n",
    "           train_ratio=0.75, val_ratio=0.10)"
   ]
  }
 ],
 "metadata": {
  "kernelspec": {
   "display_name": "Python 3 (ipykernel)",
   "language": "python",
   "name": "python3"
  },
  "language_info": {
   "codemirror_mode": {
    "name": "ipython",
    "version": 3
   },
   "file_extension": ".py",
   "mimetype": "text/x-python",
   "name": "python",
   "nbconvert_exporter": "python",
   "pygments_lexer": "ipython3",
   "version": "3.9.18"
  }
 },
 "nbformat": 4,
 "nbformat_minor": 5
}
